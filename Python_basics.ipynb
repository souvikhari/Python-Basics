{
  "nbformat": 4,
  "nbformat_minor": 0,
  "metadata": {
    "colab": {
      "provenance": []
    },
    "kernelspec": {
      "name": "python3",
      "display_name": "Python 3"
    },
    "language_info": {
      "name": "python"
    }
  },
  "cells": [
    {
      "cell_type": "markdown",
      "source": [
        "#Python Basics Questions"
      ],
      "metadata": {
        "id": "50jqam6Fb6q2"
      }
    },
    {
      "cell_type": "markdown",
      "source": [
        "1. What is Python, and why is it popular?\n",
        "   - Python is a high-level, interpreted programming language. Python is designed to be easy to understand and write, with a clean and readable syntax that makes it beginner-friendly while still being powerful for experienced developers that's why it is popular. It can be used for various things like- web delvlopment, data analysis , data visualization, machine learning e.t.c.\n",
        "2. What is an interpreter in Python?\n",
        "   - An interpreter in python is basically means a program which can read and execute the Python codes.\n",
        "3. What are pre-defined keywords in Python?\n",
        "   - Pre defined keywords in Python are some reservered words which are having specific meaning. Keywords are used to define the syntax of the coding. The keyword cannot be used as an identifier, function, or variable name. Examples of pre-defined keywords include True, False, None, and, or, not, in, is, if, else, and elif.\n",
        "4. Can keywords be used as variable names?\n",
        "   - keywords can not be used as variable names as they have some specific meaning reserved already.\n",
        "5. What is mutability in Python?\n",
        "   - The meaning of mutability in python is the object value can be changed after creating it.\n",
        "6. Why are lists mutable, but tuples are immutable?\n",
        "   - Lists are mutable because they use a dynamic memory allocation system, allowing elements to be modified, added, or removed. This makes lists suitable for collections that require frequent changes. Tuples are immutable because they use a fixed memory structure, which prevents modifications after creation. This makes tuples faster, memory-efficient, and hashable, allowing them to be used as dictionary keys.\n",
        "7. What is the difference between “==” and “is” operators in Python?\n",
        "   - \"==\" is used to Check if the values of two objects are the same, while \"is\" operator is used to check while checking if two variables refer to the same object in the memory.\n",
        "8. What are logical operators in Python?\n",
        "   - Logical operators in Python are used to combine conditional statements and return True or False based on logical conditions. There are 3 types of logical operators in python ex- AND, OR, NOT. \"AND\" returns True if both conditions are True. \"OR\" returns True if at least one condition is True. \"NOT\" reverses the result, returning False if the result is true.\n",
        "9. What is type casting in Python?\n",
        "   - Type casting is the process of changing a variable's data type to another data type in Python.\n",
        "10. What is the difference between implicit and explicit type casting?\n",
        "    - Implicit automatically converts smaller types to larger types (e.g., int to float) while explicit type casting requires the programmer to involved.\n",
        "11. What is the purpose of conditional statements in Python?\n",
        "    - Conditional statements in Python are used to control the flow of execution based on conditions. They allow the program to make decisions and execute different code blocks depending on whether a condition is True or False.\n",
        "12. How does the elif statement work?\n",
        "    - The elif (else if) statement is used when multiple conditions need to be checked one after another. It allows the program to execute different code blocks depending on which condition is True. The program checks the first if condition. If True, it executes the if block and skips the rest. If False, it moves to the elif condition and checks it. If any elif condition is True, that block executes, and the rest are skipped. If none of the conditions are True, the else block (if present) executes.\n",
        "13. What is the difference between for and while loops?\n",
        "    - For loop is used to repeat a block of code a known number of times, while a while loop repeats code until a condition is met.\n",
        "14. Describe a scenario where a while loop is more suitable than a for loop.\n",
        "    - A while loop is more suitable when we dont know how many times the loop will run. For example, when asking a user to enter the correct password, we can keep prompting until they enter the correct one.         \n",
        "         \n",
        "                         "
      ],
      "metadata": {
        "id": "l1aRLdzhcHDU"
      }
    },
    {
      "cell_type": "markdown",
      "source": [
        "#Practical Questions"
      ],
      "metadata": {
        "id": "JCUVerVtyvsw"
      }
    },
    {
      "cell_type": "markdown",
      "source": [
        "Write a Python program to print \"Hello, World!"
      ],
      "metadata": {
        "id": "YP6_MX8iy-dM"
      }
    },
    {
      "cell_type": "code",
      "source": [
        "print(\"Hello, World!\")"
      ],
      "metadata": {
        "colab": {
          "base_uri": "https://localhost:8080/"
        },
        "id": "zr0HjXquzfas",
        "outputId": "99c785bf-0bd1-48dd-cf61-c3c0c7cba7ce"
      },
      "execution_count": 2,
      "outputs": [
        {
          "output_type": "stream",
          "name": "stdout",
          "text": [
            "Hello, World!\n"
          ]
        }
      ]
    },
    {
      "cell_type": "markdown",
      "source": [
        "Write a Python program that displays your name and age"
      ],
      "metadata": {
        "id": "43O4SLMT0Pc0"
      }
    },
    {
      "cell_type": "code",
      "source": [
        "Name = \"Souvik\"\n",
        "Age = 21\n",
        "print(Name , Age)"
      ],
      "metadata": {
        "colab": {
          "base_uri": "https://localhost:8080/"
        },
        "id": "_lda75ZN0ef8",
        "outputId": "9791b44a-6be8-4f50-9786-3cf8cafb4e4b"
      },
      "execution_count": 5,
      "outputs": [
        {
          "output_type": "stream",
          "name": "stdout",
          "text": [
            "Souvik 21\n"
          ]
        }
      ]
    },
    {
      "cell_type": "markdown",
      "source": [
        "Write code to print all the pre-defined keywords in Python using the keyword library"
      ],
      "metadata": {
        "id": "ZIb5dJTq0xPM"
      }
    },
    {
      "cell_type": "code",
      "source": [
        "keywords_list = keyword.kwlist\n",
        "\n",
        "print(\"Python keywords:\")\n",
        "for kw in keywords_list:\n",
        "    print(kw)\n"
      ],
      "metadata": {
        "colab": {
          "base_uri": "https://localhost:8080/"
        },
        "id": "m2wnnIqY1v1L",
        "outputId": "44f810bd-158a-4298-b518-6666a5ebe81b"
      },
      "execution_count": 11,
      "outputs": [
        {
          "output_type": "stream",
          "name": "stdout",
          "text": [
            "Python keywords:\n",
            "False\n",
            "None\n",
            "True\n",
            "and\n",
            "as\n",
            "assert\n",
            "async\n",
            "await\n",
            "break\n",
            "class\n",
            "continue\n",
            "def\n",
            "del\n",
            "elif\n",
            "else\n",
            "except\n",
            "finally\n",
            "for\n",
            "from\n",
            "global\n",
            "if\n",
            "import\n",
            "in\n",
            "is\n",
            "lambda\n",
            "nonlocal\n",
            "not\n",
            "or\n",
            "pass\n",
            "raise\n",
            "return\n",
            "try\n",
            "while\n",
            "with\n",
            "yield\n"
          ]
        }
      ]
    },
    {
      "cell_type": "markdown",
      "source": [
        "Write a program that checks if a given word is a Python keyword"
      ],
      "metadata": {
        "id": "OY1UY1Hp11kj"
      }
    },
    {
      "cell_type": "code",
      "source": [
        "\n",
        "def check_keyword(word):\n",
        "    if keyword.iskeyword(word):\n",
        "        print(f\"'{word}' is a Python keyword.\")\n",
        "    else:\n",
        "        print(f\"'{word}' is NOT a Python keyword.\")\n",
        "word = input(\"Enter a word: \")\n",
        "check_keyword(word)\n"
      ],
      "metadata": {
        "colab": {
          "base_uri": "https://localhost:8080/"
        },
        "id": "__Ub02Vv143b",
        "outputId": "d0742c4a-53c0-4886-9ba9-cb41c0491602"
      },
      "execution_count": 13,
      "outputs": [
        {
          "output_type": "stream",
          "name": "stdout",
          "text": [
            "Enter a word: or\n",
            "'or' is a Python keyword.\n"
          ]
        }
      ]
    },
    {
      "cell_type": "markdown",
      "source": [
        "Create a list and tuple in Python, and demonstrate how attempting to change an element works differently\n",
        "for each"
      ],
      "metadata": {
        "id": "wnQ3LHxM2bzj"
      }
    },
    {
      "cell_type": "code",
      "source": [
        "# Creating a list\n",
        "my_list = [1, 2, 3, 4]\n",
        "print(\"Original list:\", my_list)\n",
        "\n",
        "# Modifying an element in the list (Lists are mutable)\n",
        "my_list[1] = 99\n",
        "print(\"Modified list:\", my_list)\n",
        "\n",
        "# Creating a tuple\n",
        "my_tuple = (1, 2, 3, 4)\n",
        "print(\"\\nOriginal tuple:\", my_tuple)\n",
        "\n",
        "# Attempting to modify an element in the tuple (Tuples are immutable)\n",
        "try:\n",
        "    my_tuple[1] = 99  # This will raise an error\n",
        "except TypeError as e:\n",
        "    print(\"Error:\", e)\n"
      ],
      "metadata": {
        "colab": {
          "base_uri": "https://localhost:8080/"
        },
        "id": "UjdEWRBx2p-y",
        "outputId": "b4363bd0-0bc9-424c-bed3-2d851a296d98"
      },
      "execution_count": 14,
      "outputs": [
        {
          "output_type": "stream",
          "name": "stdout",
          "text": [
            "Original list: [1, 2, 3, 4]\n",
            "Modified list: [1, 99, 3, 4]\n",
            "\n",
            "Original tuple: (1, 2, 3, 4)\n",
            "Error: 'tuple' object does not support item assignment\n"
          ]
        }
      ]
    },
    {
      "cell_type": "markdown",
      "source": [
        "Write a function to demonstrate the behavior of mutable and immutable arguments"
      ],
      "metadata": {
        "id": "i8RdSQd43WJS"
      }
    },
    {
      "cell_type": "code",
      "source": [
        "# Function to modify mutable and immutable arguments\n",
        "def modify_values(mutable_list, immutable_num):\n",
        "    # Modifying the list (Mutable object)\n",
        "    mutable_list.append(99)\n",
        "    print(\"Inside function (after modifying list):\", mutable_list)\n",
        "\n",
        "    # Attempting to modify the integer (Immutable object)\n",
        "    immutable_num += 10\n",
        "    print(\"Inside function (after modifying number):\", immutable_num)\n",
        "\n",
        "# Define a mutable object (list) and an immutable object (integer)\n",
        "my_list = [1, 2, 3]\n",
        "my_number = 5\n",
        "\n",
        "# Print original values\n",
        "print(\"Before function call:\")\n",
        "print(\"List:\", my_list)\n",
        "print(\"Number:\", my_number)\n",
        "\n",
        "# Call the function\n",
        "modify_values(my_list, my_number)\n",
        "\n",
        "# Print values after function call\n",
        "print(\"\\nAfter function call:\")\n",
        "print(\"List:\", my_list)  # List is modified\n",
        "print(\"Number:\", my_number)  # Number remains unchanged\n"
      ],
      "metadata": {
        "colab": {
          "base_uri": "https://localhost:8080/"
        },
        "id": "MDEYpJ6I3gda",
        "outputId": "15ed1f1e-78d3-4ed7-9ef8-f0299faf6449"
      },
      "execution_count": 15,
      "outputs": [
        {
          "output_type": "stream",
          "name": "stdout",
          "text": [
            "Before function call:\n",
            "List: [1, 2, 3]\n",
            "Number: 5\n",
            "Inside function (after modifying list): [1, 2, 3, 99]\n",
            "Inside function (after modifying number): 15\n",
            "\n",
            "After function call:\n",
            "List: [1, 2, 3, 99]\n",
            "Number: 5\n"
          ]
        }
      ]
    },
    {
      "cell_type": "markdown",
      "source": [
        "Write a function to demonstrate the behavior of mutable and immutable arguments"
      ],
      "metadata": {
        "id": "1JkL6Ut73x3q"
      }
    },
    {
      "cell_type": "code",
      "source": [
        "#Same question repeated please check the previous answer"
      ],
      "metadata": {
        "id": "oPiTHYFH8RP4"
      },
      "execution_count": null,
      "outputs": []
    },
    {
      "cell_type": "markdown",
      "source": [
        "Write a program to demonstrate the use of logical operators"
      ],
      "metadata": {
        "id": "r7qIhQGf4Y6Z"
      }
    },
    {
      "cell_type": "code",
      "source": [
        "# Taking input values\n",
        "a = int(input(\"Enter first number: \"))\n",
        "b = int(input(\"Enter second number: \"))\n",
        "\n",
        "# Using 'and' operator (True if both conditions are True)\n",
        "print(\"\\nUsing 'and' operator:\")\n",
        "print(f\"a > 0 and b > 0: {a > 0 and b > 0}\")  # True if both a and b are positive\n",
        "\n",
        "# Using 'or' operator (True if at least one condition is True)\n",
        "print(\"\\nUsing 'or' operator:\")\n",
        "print(f\"a > 0 or b > 0: {a > 0 or b > 0}\")  # True if at least one of a or b is positive\n",
        "\n",
        "# Using 'not' operator (Reverses the boolean result)\n",
        "print(\"\\nUsing 'not' operator:\")\n",
        "print(f\"not (a > 0): {not (a > 0)}\")  # True if a is NOT positive\n",
        "print(f\"not (b > 0): {not (b > 0)}\")  # True if b is NOT positive\n"
      ],
      "metadata": {
        "colab": {
          "base_uri": "https://localhost:8080/"
        },
        "id": "aZAU0u374eBJ",
        "outputId": "4d7baacc-fd26-42dc-ca09-7c2e49fe68d2"
      },
      "execution_count": 16,
      "outputs": [
        {
          "output_type": "stream",
          "name": "stdout",
          "text": [
            "Enter first number: 66\n",
            "Enter second number: 45\n",
            "\n",
            "Using 'and' operator:\n",
            "a > 0 and b > 0: True\n",
            "\n",
            "Using 'or' operator:\n",
            "a > 0 or b > 0: True\n",
            "\n",
            "Using 'not' operator:\n",
            "not (a > 0): False\n",
            "not (b > 0): False\n"
          ]
        }
      ]
    },
    {
      "cell_type": "markdown",
      "source": [
        "Write a Python program to convert user input from string to integer, float, and boolean types"
      ],
      "metadata": {
        "id": "v8rLT5KZ5QLp"
      }
    },
    {
      "cell_type": "code",
      "source": [
        "# Taking user input as a string\n",
        "user_input = input(\"Enter a value: \")\n",
        "\n",
        "# Converting to integer\n",
        "try:\n",
        "    int_value = int(user_input)\n",
        "    print(\"Integer value:\", int_value)\n",
        "except ValueError:\n",
        "    print(\"Cannot convert to integer.\")\n",
        "\n",
        "# Converting to float\n",
        "try:\n",
        "    float_value = float(user_input)\n",
        "    print(\"Float value:\", float_value)\n",
        "except ValueError:\n",
        "    print(\"Cannot convert to float.\")\n",
        "\n",
        "# Converting to boolean\n",
        "bool_value = bool(user_input)  # Non-empty strings convert to True, empty string to False\n",
        "print(\"Boolean value:\", bool_value)\n"
      ],
      "metadata": {
        "colab": {
          "base_uri": "https://localhost:8080/"
        },
        "id": "pdp4JXZB5Qy5",
        "outputId": "640a0535-403b-4185-bcfe-c48c6146ea5c"
      },
      "execution_count": 17,
      "outputs": [
        {
          "output_type": "stream",
          "name": "stdout",
          "text": [
            "Enter a value: 56\n",
            "Integer value: 56\n",
            "Float value: 56.0\n",
            "Boolean value: True\n"
          ]
        }
      ]
    },
    {
      "cell_type": "markdown",
      "source": [
        "Write code to demonstrate type casting with list elements"
      ],
      "metadata": {
        "id": "Lis4ApNi5fIR"
      }
    },
    {
      "cell_type": "code",
      "source": [
        "# List with mixed string numbers\n",
        "str_list = [\"10\", \"20\", \"30\", \"40.5\", \"50.7\", \"True\"]\n",
        "\n",
        "# Converting to integers (will ignore float values)\n",
        "int_list = []\n",
        "for item in str_list:\n",
        "    try:\n",
        "        int_list.append(int(float(item)))  # Convert to float first, then to int\n",
        "    except ValueError:\n",
        "        print(f\"Cannot convert '{item}' to an integer.\")\n",
        "\n",
        "print(\"List after converting to integers:\", int_list)\n",
        "\n",
        "# Converting to floats\n",
        "float_list = []\n",
        "for item in str_list:\n",
        "    try:\n",
        "        float_list.append(float(item))  # Convert to float\n",
        "    except ValueError:\n",
        "        print(f\"Cannot convert '{item}' to a float.\")\n",
        "\n",
        "print(\"List after converting to floats:\", float_list)\n",
        "\n",
        "# Converting to booleans\n",
        "bool_list = [bool(item) for item in str_list]  # Convert to boolean\n",
        "\n",
        "print(\"List after converting to booleans:\", bool_list)\n"
      ],
      "metadata": {
        "colab": {
          "base_uri": "https://localhost:8080/"
        },
        "id": "PL80wIW05hEM",
        "outputId": "bedb84b3-d390-4282-e964-d719318c8a3e"
      },
      "execution_count": 18,
      "outputs": [
        {
          "output_type": "stream",
          "name": "stdout",
          "text": [
            "Cannot convert 'True' to an integer.\n",
            "List after converting to integers: [10, 20, 30, 40, 50]\n",
            "Cannot convert 'True' to a float.\n",
            "List after converting to floats: [10.0, 20.0, 30.0, 40.5, 50.7]\n",
            "List after converting to booleans: [True, True, True, True, True, True]\n"
          ]
        }
      ]
    },
    {
      "cell_type": "markdown",
      "source": [
        "Write a program that checks if a number is positive, negative, or zero"
      ],
      "metadata": {
        "id": "pdepaG445p1B"
      }
    },
    {
      "cell_type": "code",
      "source": [
        "# Get user input\n",
        "num = float(input(\"Enter a number: \"))\n",
        "\n",
        "# Check the number type\n",
        "if num > 0:\n",
        "    print(\"The number is positive.\")\n",
        "elif num < 0:\n",
        "    print(\"The number is negative.\")\n",
        "else:\n",
        "    print(\"The number is zero.\")\n"
      ],
      "metadata": {
        "colab": {
          "base_uri": "https://localhost:8080/"
        },
        "id": "cjqsi1qg5ru7",
        "outputId": "9eae6970-7895-4b85-ce90-e89100ad8be0"
      },
      "execution_count": 19,
      "outputs": [
        {
          "output_type": "stream",
          "name": "stdout",
          "text": [
            "Enter a number: 4\n",
            "The number is positive.\n"
          ]
        }
      ]
    },
    {
      "cell_type": "markdown",
      "source": [
        "Write a for loop to print numbers from 1 to 10"
      ],
      "metadata": {
        "id": "RY_ZiCzp6Bno"
      }
    },
    {
      "cell_type": "code",
      "source": [
        "for num in range(1, 11):\n",
        "    print(num)\n"
      ],
      "metadata": {
        "colab": {
          "base_uri": "https://localhost:8080/"
        },
        "id": "LIYh9wP26RjZ",
        "outputId": "8b4adc0e-8d4b-4071-d2b9-2c33994a0801"
      },
      "execution_count": 21,
      "outputs": [
        {
          "output_type": "stream",
          "name": "stdout",
          "text": [
            "1\n",
            "2\n",
            "3\n",
            "4\n",
            "5\n",
            "6\n",
            "7\n",
            "8\n",
            "9\n",
            "10\n"
          ]
        }
      ]
    },
    {
      "cell_type": "markdown",
      "source": [
        "Write a Python program to find the sum of all even numbers between 1 and 50"
      ],
      "metadata": {
        "id": "ySg1pdKZ6Thg"
      }
    },
    {
      "cell_type": "code",
      "source": [
        "# Initialize sum variable\n",
        "sum_even = 0\n",
        "\n",
        "# Loop through even numbers from 1 to 50\n",
        "for num in range(2, 51, 2):  # Start from 2, go up to 50, step by 2\n",
        "    sum_even += num\n",
        "\n",
        "# Print the result\n",
        "print(sum_even)\n"
      ],
      "metadata": {
        "colab": {
          "base_uri": "https://localhost:8080/"
        },
        "id": "hcFE_6BT6Wcx",
        "outputId": "bc55c678-a39f-4ac8-ba58-f5b0192c919e"
      },
      "execution_count": 22,
      "outputs": [
        {
          "output_type": "stream",
          "name": "stdout",
          "text": [
            "650\n"
          ]
        }
      ]
    },
    {
      "cell_type": "markdown",
      "source": [
        "Write a program to reverse a string using a while loop"
      ],
      "metadata": {
        "id": "euqFsBvN6nUC"
      }
    },
    {
      "cell_type": "code",
      "source": [
        "# Get user input\n",
        "string = input(\"Enter a string: \")\n",
        "\n",
        "# Initialize variables\n",
        "reversed_string = \"\"\n",
        "index = len(string) - 1  # Start from the last character\n",
        "\n",
        "# Reverse the string using a while loop\n",
        "while index >= 0:\n",
        "    reversed_string += string[index]\n",
        "    index -= 1  # Move to the previous character\n",
        "\n",
        "# Print the reversed string\n",
        "print(\"Reversed string:\", reversed_string)"
      ],
      "metadata": {
        "colab": {
          "base_uri": "https://localhost:8080/"
        },
        "id": "8JSLP_v_6pwp",
        "outputId": "e9e7ae05-4f11-4cd5-d652-b44c4a4e288b"
      },
      "execution_count": 23,
      "outputs": [
        {
          "output_type": "stream",
          "name": "stdout",
          "text": [
            "Enter a string: PWSKILL\n",
            "Reversed string: LLIKSWP\n"
          ]
        }
      ]
    },
    {
      "cell_type": "markdown",
      "source": [
        "Write a Python program to calculate the factorial of a number provided by the user using a while loop"
      ],
      "metadata": {
        "id": "HuTipqQl6__R"
      }
    },
    {
      "cell_type": "code",
      "source": [
        "# Get user input\n",
        "num = int(input(\"Enter a number: \"))\n",
        "\n",
        "# Initialize factorial and counter\n",
        "factorial = 1\n",
        "i = num\n",
        "\n",
        "# Calculate factorial using a while loop\n",
        "while i > 0:\n",
        "    factorial *= i\n",
        "    i -= 1  # Decrement counter\n",
        "\n",
        "# Print the result\n",
        "print(f\"The factorial of {num} is {factorial}\")\n"
      ],
      "metadata": {
        "colab": {
          "base_uri": "https://localhost:8080/"
        },
        "id": "rP_bmzLI7CMA",
        "outputId": "43285265-c8db-42dd-eef2-0985232476f2"
      },
      "execution_count": 25,
      "outputs": [
        {
          "output_type": "stream",
          "name": "stdout",
          "text": [
            "Enter a number: 4\n",
            "The factorial of 4 is 24\n"
          ]
        }
      ]
    }
  ]
}